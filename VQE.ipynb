{
 "cells": [
  {
   "cell_type": "code",
   "execution_count": null,
   "metadata": {},
   "outputs": [],
   "source": [
    "import qiskit\n",
    "from qiskit import Aer\n",
    "from qiskit.aqua.components.optimizers import SPSA\n",
    "from qiskit.aqua.components.variational_forms import RYRZ\n",
    "from qiskit.aqua.operators import Z2Symmetries, WeightedPauliOperator\n",
    "from qiskit.aqua.algorithms import VQE\n",
    "from qiskit.aqua import QuantumInstance\n",
    "\n",
    "# Define the molecular information for BeH2\n",
    "molecule = 'Be . H . H\\n' + 'H 1 {r}\\n' + 'H 1 {r} 2 {theta}\\n'\n",
    "distance = 1.4  # in Angstroms\n",
    "angle = 104.5  # in degrees\n",
    "molecule = molecule.format(r=distance, theta=angle)\n",
    "charge = 0\n",
    "spin = 0\n",
    "\n",
    "# Compute the molecular integrals and construct the WeightedPauliOperator\n",
    "from qiskit.chemistry.drivers import PySCFDriver\n",
    "from qiskit.chemistry.core import Hamiltonian, QubitMappingType\n",
    "\n",
    "driver = PySCFDriver(atom=molecule, charge=charge, spin=spin, basis='sto3g')\n",
    "qmolecule = driver.run()\n",
    "operator = Hamiltonian(qubit_mapping=QubitMappingType.PARITY, two_qubit_reduction=True, freeze_core=True,\n",
    "                       orbital_reduction=[-3, -2])\n",
    "operator.from_input_string(qmolecule.one_body_integrals, qmolecule.two_body_integrals)\n",
    "\n",
    "# Exploit the symmetries of the problem\n",
    "symmetries = Z2Symmetries.find_Z2_symmetries(operator)\n",
    "num_qubits = operator.num_qubits\n",
    "\n",
    "# Define the optimizer and variational form for the VQE\n",
    "optimizer = SPSA(maxiter=1000)\n",
    "var_form = RYRZ(num_qubits, depth=3, entanglement='linear')\n",
    "\n",
    "# Construct the VQE algorithm and run it\n",
    "vqe = VQE(operator, var_form, optimizer, quantum_instance=QuantumInstance(Aer.get_backend('statevector_simulator')))\n",
    "result = vqe.run()\n",
    "\n",
    "# Print the ground state energy and the optimized parameters\n",
    "print(f\"Ground state energy: {result.eigenvalue.real:.4f}\")\n",
    "print(f\"Optimized parameters: {result.optimal_point}\")\n"
   ]
  }
 ],
 "metadata": {
  "language_info": {
   "name": "python"
  },
  "orig_nbformat": 4
 },
 "nbformat": 4,
 "nbformat_minor": 2
}
